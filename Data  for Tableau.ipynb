{
 "cells": [
  {
   "cell_type": "markdown",
   "metadata": {},
   "source": [
    "## DATA CLEANING AND WRANGLING FOR TABLEAU DASHBOARD"
   ]
  },
  {
   "cell_type": "markdown",
   "metadata": {},
   "source": [
    "The objective of this project is to compile data from several publicly available data sources from Latvian state instititutions.<br> Despite the great data Tableau processing capabilities it could not join 5 different .xls and.csv tables with geospatial data in .shp file. So the objective of this Python code is to merge the relevant data from these files into a new dataframe and export it for further use in Tableau.<br>Data in the input files  cover such economic and demographic indicators as:\n",
    "* dynamics of new company registration, \n",
    "* business classification(NACE),  \n",
    "* salary data of paid and self-employed workers,\n",
    "* population dynamics."
   ]
  },
  {
   "cell_type": "code",
   "execution_count": 1,
   "metadata": {
    "scrolled": true
   },
   "outputs": [],
   "source": [
    "import pandas as pd\n",
    "import numpy as np"
   ]
  },
  {
   "cell_type": "code",
   "execution_count": 2,
   "metadata": {
    "scrolled": true
   },
   "outputs": [],
   "source": [
    "#Latvia Company Register data, 440 000 records on registration of companies in 1990 - 2019.\n",
    "file1 = 'http://dati.ur.gov.lv/register/register.csv' \n",
    "file2 = 'https://www.dropbox.com/s/knfc29x4tmo065k/Novadu_atvk_kodi.xlsx?dl=1' #regional codes needed for geospatial data\n",
    "file3 = 'https://www.dropbox.com/s/9jqoo6c5yjqy64a/Population_2013-2017.csv?dl=1'#population dynamics 2013 - 2017\n",
    "file4 = 'https://www.dropbox.com/s/ql9dzkmsmi8sxte/iemaksu_alga_ed.xlsx?dl=1'# salary data 2018\n",
    "file5 = 'https://www.dropbox.com/s/7ii9dp7kcbt7al6/business_classificator.xlsx?dl=1'#NACE business classificator data"
   ]
  },
  {
   "cell_type": "code",
   "execution_count": 3,
   "metadata": {
    "scrolled": true
   },
   "outputs": [],
   "source": [
    "df1 = pd.read_csv(file1, sep=';', low_memory = False, error_bad_lines=False)"
   ]
  },
  {
   "cell_type": "code",
   "execution_count": 4,
   "metadata": {},
   "outputs": [
    {
     "data": {
      "text/plain": [
       "(411942, 21)"
      ]
     },
     "execution_count": 4,
     "metadata": {},
     "output_type": "execute_result"
    }
   ],
   "source": [
    "df1.shape"
   ]
  },
  {
   "cell_type": "code",
   "execution_count": 5,
   "metadata": {},
   "outputs": [
    {
     "data": {
      "text/plain": [
       "Index(['regcode', 'sepa', 'name', 'name_before_quotes', 'name_in_quotes',\n",
       "       'name_after_quotes', 'without_quotes', 'regtype', 'regtype_text',\n",
       "       'type', 'type_text', 'registered', 'terminated', 'closed', 'address',\n",
       "       'index', 'addressid', 'region', 'city', 'atvk', 'reregistration_term'],\n",
       "      dtype='object')"
      ]
     },
     "execution_count": 5,
     "metadata": {},
     "output_type": "execute_result"
    }
   ],
   "source": [
    "df1.columns"
   ]
  },
  {
   "cell_type": "code",
   "execution_count": 6,
   "metadata": {
    "scrolled": true
   },
   "outputs": [],
   "source": [
    "#filtering companies by business type...\n",
    "dft2 = df1.loc[df1['type'].isin([\"SIA\", \"ZEM\"])]\n",
    "\n",
    "#... and year of registration.\n",
    "pd.options.mode.chained_assignment = None\n",
    "dft2['registered'] = pd.to_datetime(dft2['registered'])\n",
    "\n",
    "dft2 = dft2.loc[dft2['registered']>'2009-01-01 00:00:00']\n",
    "dft2 = pd.DataFrame(dft2.drop(['sepa', 'name_before_quotes', 'name_in_quotes',\n",
    "       'name_after_quotes', 'without_quotes', 'regtype', 'regtype_text',\n",
    "       'type_text', 'closed', 'index', 'addressid', 'region', 'city', 'reregistration_term'], axis=1))\n",
    "\n",
    "#renaming columns that will be used as table keys later on.\n",
    "dft2['address'] = dft2['address'].str.split(',', 1).str[0].str.strip()\n",
    "dft2['address'] = dft2['address'].str.replace(r'nov.', 'novads').str.strip()\n",
    "\n",
    "dft2=dft2.rename(index=str, columns={'address':'novads', 'atvk':'atvk_ur'})\n",
    "#assigning year date to a new column.\n",
    "dft2['year'] = pd.DatetimeIndex(dft2['registered']).year"
   ]
  },
  {
   "cell_type": "code",
   "execution_count": 7,
   "metadata": {
    "scrolled": true
   },
   "outputs": [],
   "source": [
    "#creating new dataframe to store registration data by region and year\n",
    "col = dft2['year'].unique().tolist()\n",
    "row = dft2['novads'].unique().tolist()\n",
    "\n",
    "D = np.zeros(shape=(len(row),len(col)))\n",
    "df_uz = pd.DataFrame(D, columns=col, index=row)\n",
    "df_uz = df_uz.reindex(sorted(df_uz.columns), axis=1)\n",
    "df_uz.index.name = 'novads'\n",
    "\n",
    "#extracting registration data from original table and calculating the new values for each region/year.\n",
    "x = range(len(dft2.index))\n",
    "\n",
    "for i in x:\n",
    "    r1 = dft2.iloc[i, 5]\n",
    "    c1 = dft2.iloc[i, 7]\n",
    "    df_uz.loc[r1, c1] += 1 "
   ]
  },
  {
   "cell_type": "code",
   "execution_count": 8,
   "metadata": {
    "scrolled": true
   },
   "outputs": [],
   "source": [
    "#calculating summary column for 2009-2018.\n",
    "df_uz.columns = df_uz.columns.astype(str)    \n",
    "df_uz['2009_20018_compsum'] =  df_uz[['2009', '2010', '2011', '2012', '2013',\n",
    "                                     '2014', '2015', '2016', '2017', '2018']].sum(axis=1)\n",
    "df_uz = df_uz.reset_index()"
   ]
  },
  {
   "cell_type": "code",
   "execution_count": 9,
   "metadata": {},
   "outputs": [
    {
     "data": {
      "text/plain": [
       "(119, 13)"
      ]
     },
     "execution_count": 9,
     "metadata": {},
     "output_type": "execute_result"
    }
   ],
   "source": [
    "df_uz.shape"
   ]
  },
  {
   "cell_type": "code",
   "execution_count": 10,
   "metadata": {
    "scrolled": true
   },
   "outputs": [],
   "source": [
    "#opening tand joining the table with regional geo-codes.\n",
    "df_atvk = pd.read_excel(file2, sheet_name = 'novadi')"
   ]
  },
  {
   "cell_type": "code",
   "execution_count": 11,
   "metadata": {
    "scrolled": true
   },
   "outputs": [],
   "source": [
    "df_atvk=df_atvk.rename(index=str, columns={'ATVK ':'atvk','Administratīvās teritorijas':'novads'})\n",
    "df_atvk['atvk'] = df_atvk['atvk'].astype(str)\n",
    "df_atvk.iloc[0,0]= '010000'\n",
    "df_atvk.iloc[1,0] = '050000'\n",
    "df_atvk.iloc[2,0] = '090000'\n",
    "df_atvk['atvk'] = '0' + df_atvk['atvk'].astype(str)"
   ]
  },
  {
   "cell_type": "code",
   "execution_count": 12,
   "metadata": {},
   "outputs": [
    {
     "data": {
      "text/html": [
       "<div>\n",
       "<style scoped>\n",
       "    .dataframe tbody tr th:only-of-type {\n",
       "        vertical-align: middle;\n",
       "    }\n",
       "\n",
       "    .dataframe tbody tr th {\n",
       "        vertical-align: top;\n",
       "    }\n",
       "\n",
       "    .dataframe thead th {\n",
       "        text-align: right;\n",
       "    }\n",
       "</style>\n",
       "<table border=\"1\" class=\"dataframe\">\n",
       "  <thead>\n",
       "    <tr style=\"text-align: right;\">\n",
       "      <th></th>\n",
       "      <th>atvk</th>\n",
       "      <th>novads</th>\n",
       "    </tr>\n",
       "  </thead>\n",
       "  <tbody>\n",
       "    <tr>\n",
       "      <th>0</th>\n",
       "      <td>0010000</td>\n",
       "      <td>Rīga</td>\n",
       "    </tr>\n",
       "    <tr>\n",
       "      <th>1</th>\n",
       "      <td>0050000</td>\n",
       "      <td>Daugavpils</td>\n",
       "    </tr>\n",
       "    <tr>\n",
       "      <th>2</th>\n",
       "      <td>0090000</td>\n",
       "      <td>Jelgava</td>\n",
       "    </tr>\n",
       "    <tr>\n",
       "      <th>3</th>\n",
       "      <td>0110000</td>\n",
       "      <td>Jēkabpils</td>\n",
       "    </tr>\n",
       "    <tr>\n",
       "      <th>4</th>\n",
       "      <td>0130000</td>\n",
       "      <td>Jūrmala</td>\n",
       "    </tr>\n",
       "  </tbody>\n",
       "</table>\n",
       "</div>"
      ],
      "text/plain": [
       "      atvk      novads\n",
       "0  0010000        Rīga\n",
       "1  0050000  Daugavpils\n",
       "2  0090000     Jelgava\n",
       "3  0110000   Jēkabpils\n",
       "4  0130000     Jūrmala"
      ]
     },
     "execution_count": 12,
     "metadata": {},
     "output_type": "execute_result"
    }
   ],
   "source": [
    "df_atvk.head()"
   ]
  },
  {
   "cell_type": "code",
   "execution_count": 13,
   "metadata": {
    "scrolled": true
   },
   "outputs": [],
   "source": [
    "df_uz = pd.merge(df_uz, df_atvk, on='novads', how='left')"
   ]
  },
  {
   "cell_type": "code",
   "execution_count": 14,
   "metadata": {},
   "outputs": [
    {
     "data": {
      "text/html": [
       "<div>\n",
       "<style scoped>\n",
       "    .dataframe tbody tr th:only-of-type {\n",
       "        vertical-align: middle;\n",
       "    }\n",
       "\n",
       "    .dataframe tbody tr th {\n",
       "        vertical-align: top;\n",
       "    }\n",
       "\n",
       "    .dataframe thead th {\n",
       "        text-align: right;\n",
       "    }\n",
       "</style>\n",
       "<table border=\"1\" class=\"dataframe\">\n",
       "  <thead>\n",
       "    <tr style=\"text-align: right;\">\n",
       "      <th></th>\n",
       "      <th>novads</th>\n",
       "      <th>2009</th>\n",
       "      <th>2010</th>\n",
       "      <th>2011</th>\n",
       "      <th>2012</th>\n",
       "      <th>2013</th>\n",
       "      <th>2014</th>\n",
       "      <th>2015</th>\n",
       "      <th>2016</th>\n",
       "      <th>2017</th>\n",
       "      <th>2018</th>\n",
       "      <th>2019</th>\n",
       "      <th>2009_20018_compsum</th>\n",
       "      <th>atvk</th>\n",
       "    </tr>\n",
       "  </thead>\n",
       "  <tbody>\n",
       "    <tr>\n",
       "      <th>0</th>\n",
       "      <td>Rīga</td>\n",
       "      <td>4432.0</td>\n",
       "      <td>7205.0</td>\n",
       "      <td>10022.0</td>\n",
       "      <td>9459.0</td>\n",
       "      <td>9250.0</td>\n",
       "      <td>8604.0</td>\n",
       "      <td>7508.0</td>\n",
       "      <td>5963.0</td>\n",
       "      <td>5067.0</td>\n",
       "      <td>5265.0</td>\n",
       "      <td>2037.0</td>\n",
       "      <td>72775.0</td>\n",
       "      <td>0010000</td>\n",
       "    </tr>\n",
       "    <tr>\n",
       "      <th>1</th>\n",
       "      <td>Valmiera</td>\n",
       "      <td>72.0</td>\n",
       "      <td>113.0</td>\n",
       "      <td>170.0</td>\n",
       "      <td>133.0</td>\n",
       "      <td>130.0</td>\n",
       "      <td>128.0</td>\n",
       "      <td>116.0</td>\n",
       "      <td>84.0</td>\n",
       "      <td>76.0</td>\n",
       "      <td>89.0</td>\n",
       "      <td>28.0</td>\n",
       "      <td>1111.0</td>\n",
       "      <td>0250000</td>\n",
       "    </tr>\n",
       "    <tr>\n",
       "      <th>2</th>\n",
       "      <td>Olaines novads</td>\n",
       "      <td>41.0</td>\n",
       "      <td>107.0</td>\n",
       "      <td>146.0</td>\n",
       "      <td>127.0</td>\n",
       "      <td>144.0</td>\n",
       "      <td>123.0</td>\n",
       "      <td>172.0</td>\n",
       "      <td>131.0</td>\n",
       "      <td>89.0</td>\n",
       "      <td>104.0</td>\n",
       "      <td>28.0</td>\n",
       "      <td>1184.0</td>\n",
       "      <td>0801000</td>\n",
       "    </tr>\n",
       "    <tr>\n",
       "      <th>3</th>\n",
       "      <td>Salaspils novads</td>\n",
       "      <td>79.0</td>\n",
       "      <td>134.0</td>\n",
       "      <td>182.0</td>\n",
       "      <td>196.0</td>\n",
       "      <td>166.0</td>\n",
       "      <td>168.0</td>\n",
       "      <td>141.0</td>\n",
       "      <td>110.0</td>\n",
       "      <td>91.0</td>\n",
       "      <td>132.0</td>\n",
       "      <td>51.0</td>\n",
       "      <td>1399.0</td>\n",
       "      <td>0801200</td>\n",
       "    </tr>\n",
       "    <tr>\n",
       "      <th>4</th>\n",
       "      <td>Jūrmala</td>\n",
       "      <td>179.0</td>\n",
       "      <td>322.0</td>\n",
       "      <td>423.0</td>\n",
       "      <td>421.0</td>\n",
       "      <td>431.0</td>\n",
       "      <td>358.0</td>\n",
       "      <td>332.0</td>\n",
       "      <td>271.0</td>\n",
       "      <td>259.0</td>\n",
       "      <td>261.0</td>\n",
       "      <td>118.0</td>\n",
       "      <td>3257.0</td>\n",
       "      <td>0130000</td>\n",
       "    </tr>\n",
       "  </tbody>\n",
       "</table>\n",
       "</div>"
      ],
      "text/plain": [
       "             novads    2009    2010     2011    2012    2013    2014    2015  \\\n",
       "0              Rīga  4432.0  7205.0  10022.0  9459.0  9250.0  8604.0  7508.0   \n",
       "1          Valmiera    72.0   113.0    170.0   133.0   130.0   128.0   116.0   \n",
       "2    Olaines novads    41.0   107.0    146.0   127.0   144.0   123.0   172.0   \n",
       "3  Salaspils novads    79.0   134.0    182.0   196.0   166.0   168.0   141.0   \n",
       "4           Jūrmala   179.0   322.0    423.0   421.0   431.0   358.0   332.0   \n",
       "\n",
       "     2016    2017    2018    2019  2009_20018_compsum     atvk  \n",
       "0  5963.0  5067.0  5265.0  2037.0             72775.0  0010000  \n",
       "1    84.0    76.0    89.0    28.0              1111.0  0250000  \n",
       "2   131.0    89.0   104.0    28.0              1184.0  0801000  \n",
       "3   110.0    91.0   132.0    51.0              1399.0  0801200  \n",
       "4   271.0   259.0   261.0   118.0              3257.0  0130000  "
      ]
     },
     "execution_count": 14,
     "metadata": {},
     "output_type": "execute_result"
    }
   ],
   "source": [
    "df_uz.head()"
   ]
  },
  {
   "cell_type": "code",
   "execution_count": 15,
   "metadata": {
    "scrolled": true
   },
   "outputs": [],
   "source": [
    "#opening tand joining the table with population dynamics.\n",
    "df_iedz = pd.read_csv(file3, skiprows=1, sep=',', error_bad_lines=False)"
   ]
  },
  {
   "cell_type": "code",
   "execution_count": 16,
   "metadata": {
    "scrolled": true
   },
   "outputs": [],
   "source": [
    "df_iedz=df_iedz.rename(index=str, columns={'2013 Iedzīvotāju skaits gada sākumā':'2013_pop',\n",
    "                                           '2014 Iedzīvotāju skaits gada sākumā':'2014_pop',\n",
    "                                           '2015 Iedzīvotāju skaits gada sākumā':'2015_pop',\n",
    "                                           '2016 Iedzīvotāju skaits gada sākumā':'2016_pop',\n",
    "                                           '2017 Iedzīvotāju skaits gada sākumā':'2017_pop',\n",
    "                                           'Teritoriālā vienība': 'novads'})\n",
    "\n",
    "#calculating 2013-2017 average\n",
    "df_iedz['pop_avg'] = df_iedz.loc[:,['2013_pop', '2014_pop', '2015_pop', '2016_pop', '2017_pop']].mean(axis=1)\n",
    "df_uz = pd.merge(df_uz, df_iedz, on='novads', how='left')\n",
    "# and indicator: 1000 new companies per 1000 inhabitants that will be used as variable in the dashboard's map.\n",
    "df_uz['comp_1000pop'] = df_uz['2009_20018_compsum']/df_uz['pop_avg']*1000    "
   ]
  },
  {
   "cell_type": "code",
   "execution_count": 17,
   "metadata": {},
   "outputs": [],
   "source": [
    "#opening tand joining the table with salary data.\n",
    "df_wg=pd.read_excel(file4, sheet_name='Dati')"
   ]
  },
  {
   "cell_type": "code",
   "execution_count": 18,
   "metadata": {},
   "outputs": [],
   "source": [
    "df_wg = pd.DataFrame(df_wg.drop(['PP gads','ATVK kods'],axis=1))\n",
    "df_wg=df_wg.rename(index=str, columns={'Pilsēta, novads':'novads','Oblig. kopā, skaits':'all_count',\n",
    "                                       'Oblig. kopā, alga':'all_eur',\n",
    "                                       'Darba ņēm. kopā, skaits':'workers_count',\n",
    "                                       'Darba ņēm. kopā, alga':'workers_eur',\n",
    "                                       'Pašnodarb. kopā, skaits':'selfemp_count',\n",
    "                                       'Pašnodarb. kopā, alga':'selfemp_eur'})"
   ]
  },
  {
   "cell_type": "code",
   "execution_count": 19,
   "metadata": {},
   "outputs": [],
   "source": [
    "df_uz = pd.merge(df_uz, df_wg, on='novads', how='left')"
   ]
  },
  {
   "cell_type": "code",
   "execution_count": 20,
   "metadata": {
    "scrolled": true
   },
   "outputs": [],
   "source": [
    "#The final table to join contains business classification (NACE) data split by regions.\n",
    "df_noz=pd.read_excel(file5, sheet_name='nozares')"
   ]
  },
  {
   "cell_type": "code",
   "execution_count": 21,
   "metadata": {},
   "outputs": [],
   "source": [
    "#filling NaNs in regions ('novadi) column with missing names of the respective regions.\n",
    "x = range(len(df_noz['Novads_nz']))\n",
    "a = df_noz.iloc[0, 0]\n",
    "for i in x:       \n",
    "    if pd.isnull(df_noz.iloc[i, 0]):\n",
    "        df_noz.iloc[i, 0] = a\n",
    "    else:\n",
    "        a = df_noz.iloc[i, 0]\n",
    "\n",
    "df_noz = pd.DataFrame(df_noz.drop(['Nod. sk.'],axis=1))"
   ]
  },
  {
   "cell_type": "code",
   "execution_count": 22,
   "metadata": {},
   "outputs": [
    {
     "data": {
      "text/plain": [
       "Index(['Novads_nz', 'A Lauksaimniecība, mežsaimniecība un zivsaimniecība',\n",
       "       'B Ieguves rūpniecība un karjeru izstrāde', 'C Apstrādes rūpniecība',\n",
       "       'D Elektroenerģija, gāzes apgāde, siltumapgāde un gaisa kondicionēš',\n",
       "       'E Ūdens apgāde; notekūdeņu, atkritumu apsaimniekošana un sanācija',\n",
       "       'F Būvniecība',\n",
       "       'G Vairumtirdzniecība un mazumtirdzniecība; automobiļu un motociklu',\n",
       "       'H Transports un uzglabāšana',\n",
       "       'I Izmitināšana un ēdināšanas pakalpojumi',\n",
       "       'J Informācijas un komunikācijas pakalpojumi',\n",
       "       'K Finanšu un apdrošināšanas darbības',\n",
       "       'L Operācijas ar nekustamo īpašumu',\n",
       "       'M Profesionālie, zinātniskie un tehniskie pakalpojumi',\n",
       "       'N Administratīvo un apkalpojošo dienestu darbība',\n",
       "       'O Valsts pārvalde un aizsardzība; obligātā sociālā apdrošināšana',\n",
       "       'P Izglītība', 'Q Veselība un sociālā aprūpe',\n",
       "       'R Māksla, izklaide un atpūta', 'S Citi pakalpojumi',\n",
       "       'T Mājsaimniecību kā darba devēju darbība; pašpatēriņa preču ražoša',\n",
       "       'U Ārpusteritoriālo organizāciju un institūciju darbība',\n",
       "       'NSP Nav noteikts'],\n",
       "      dtype='object')"
      ]
     },
     "execution_count": 22,
     "metadata": {},
     "output_type": "execute_result"
    }
   ],
   "source": [
    "df_noz.columns"
   ]
  },
  {
   "cell_type": "code",
   "execution_count": 23,
   "metadata": {},
   "outputs": [],
   "source": [
    "L = ['A Lauksaimniecība, mežsaimniecība un zivsaimniecība',\n",
    "       'B Ieguves rūpniecība un karjeru izstrāde', 'C Apstrādes rūpniecība',\n",
    "       'D Elektroenerģija, gāzes apgāde, siltumapgāde un gaisa kondicionēš',\n",
    "       'E Ūdens apgāde; notekūdeņu, atkritumu apsaimniekošana un sanācija',\n",
    "       'F Būvniecība',\n",
    "       'G Vairumtirdzniecība un mazumtirdzniecība; automobiļu un motociklu',\n",
    "       'H Transports un uzglabāšana',\n",
    "       'I Izmitināšana un ēdināšanas pakalpojumi',\n",
    "       'J Informācijas un komunikācijas pakalpojumi',\n",
    "       'K Finanšu un apdrošināšanas darbības',\n",
    "       'L Operācijas ar nekustamo īpašumu',\n",
    "       'M Profesionālie, zinātniskie un tehniskie pakalpojumi',\n",
    "       'N Administratīvo un apkalpojošo dienestu darbība',\n",
    "       'O Valsts pārvalde un aizsardzība; obligātā sociālā apdrošināšana',\n",
    "       'P Izglītība', 'Q Veselība un sociālā aprūpe',\n",
    "       'R Māksla, izklaide un atpūta', 'S Citi pakalpojumi',\n",
    "       'T Mājsaimniecību kā darba devēju darbība; pašpatēriņa preču ražoša',\n",
    "       'U Ārpusteritoriālo organizāciju un institūciju darbība',\n",
    "       'NSP Nav noteikts']"
   ]
  },
  {
   "cell_type": "code",
   "execution_count": 25,
   "metadata": {},
   "outputs": [],
   "source": [
    "#grouping by regions\n",
    "df_noz[L] = df_noz[L].apply(pd.to_numeric, errors='coerce')\n",
    "df_noz_gr = df_noz.groupby('Novads_nz').sum()\n",
    "df_noz_gr = df_noz_gr.reset_index()\n"
   ]
  },
  {
   "cell_type": "code",
   "execution_count": 26,
   "metadata": {},
   "outputs": [
    {
     "data": {
      "text/plain": [
       "Novads_nz                                                               0\n",
       "A Lauksaimniecība, mežsaimniecība un zivsaimniecība                     0\n",
       "B Ieguves rūpniecība un karjeru izstrāde                               36\n",
       "C Apstrādes rūpniecība                                                  0\n",
       "D Elektroenerģija, gāzes apgāde, siltumapgāde un gaisa kondicionēš     18\n",
       "E Ūdens apgāde; notekūdeņu, atkritumu apsaimniekošana un sanācija      42\n",
       "F Būvniecība                                                            0\n",
       "G Vairumtirdzniecība un mazumtirdzniecība; automobiļu un motociklu      0\n",
       "H Transports un uzglabāšana                                             1\n",
       "I Izmitināšana un ēdināšanas pakalpojumi                                4\n",
       "J Informācijas un komunikācijas pakalpojumi                             7\n",
       "K Finanšu un apdrošināšanas darbības                                   19\n",
       "L Operācijas ar nekustamo īpašumu                                       2\n",
       "M Profesionālie, zinātniskie un tehniskie pakalpojumi                   0\n",
       "N Administratīvo un apkalpojošo dienestu darbība                        3\n",
       "O Valsts pārvalde un aizsardzība; obligātā sociālā apdrošināšana       98\n",
       "P Izglītība                                                             6\n",
       "Q Veselība un sociālā aprūpe                                            0\n",
       "R Māksla, izklaide un atpūta                                            2\n",
       "S Citi pakalpojumi                                                      0\n",
       "T Mājsaimniecību kā darba devēju darbība; pašpatēriņa preču ražoša    119\n",
       "U Ārpusteritoriālo organizāciju un institūciju darbība                119\n",
       "NSP Nav noteikts                                                       58\n",
       "dtype: int64"
      ]
     },
     "execution_count": 26,
     "metadata": {},
     "output_type": "execute_result"
    }
   ],
   "source": [
    "df_noz_gr.isnull().sum()"
   ]
  },
  {
   "cell_type": "code",
   "execution_count": 27,
   "metadata": {},
   "outputs": [],
   "source": [
    "# removing columns with high proportion of NaNs except state institutions since they understandably(?)\n",
    "# concentrate only in few regions.\n",
    "df_noz_gr = pd.DataFrame(df_noz_gr.drop(['T Mājsaimniecību kā darba devēju darbība; pašpatēriņa preču ražoša',\n",
    "                                         'U Ārpusteritoriālo organizāciju un institūciju darbība',\n",
    "                                         'NSP Nav noteikts'],axis=1))"
   ]
  },
  {
   "cell_type": "code",
   "execution_count": 28,
   "metadata": {},
   "outputs": [],
   "source": [
    "#Renaming columns to English.\n",
    "df_noz_gr=df_noz_gr.rename(index=str,\n",
    "                           columns={'A Lauksaimniecība, mežsaimniecība un zivsaimniecība':'Agriculture, Forestry and Fishing',\n",
    "                                    'B Ieguves rūpniecība un karjeru izstrāde':'Mining and Quarrying',\n",
    "                                    'C Apstrādes rūpniecība':'Manufacturing',\n",
    "                                    'D Elektroenerģija, gāzes apgāde, siltumapgāde un gaisa kondicionēš':'Electricity, Gas, Steam and Air Conditioning Supply',\n",
    "                                    'E Ūdens apgāde; notekūdeņu, atkritumu apsaimniekošana un sanācija':'Water Supply; Sewerage, Waste Management',\n",
    "                                    'F Būvniecība':'Construction',\n",
    "                                    'G Vairumtirdzniecība un mazumtirdzniecība; automobiļu un motociklu':'Wholesale and Retail Trade',\n",
    "                                    'H Transports un uzglabāšana':'Transportation and Storage',\n",
    "                                    'I Izmitināšana un ēdināšanas pakalpojumi':'Accommodation and Food Service Activities',\n",
    "                                    'J Informācijas un komunikācijas pakalpojumi':'Information and Communication',\n",
    "                                    'K Finanšu un apdrošināšanas darbības':'Financial and Insurance Activities',\n",
    "                                    'L Operācijas ar nekustamo īpašumu':'Real Estate Activities',\n",
    "                                    'M Profesionālie, zinātniskie un tehniskie pakalpojumi':'Professional, Scientific and Technical Activities',\n",
    "                                    'N Administratīvo un apkalpojošo dienestu darbība':'Administrative and Support Service Activities',\n",
    "                                    'O Valsts pārvalde un aizsardzība; obligātā sociālā apdrošināšana':'Public Administration and Defence',\n",
    "                                    'P Izglītība':'Education',\n",
    "                                    'Q Veselība un sociālā aprūpe':'Human Health and Social Work Activities',\n",
    "                                    'R Māksla, izklaide un atpūta':'Arts, Entertainment and Recreation',\n",
    "                                    'S Citi pakalpojumi':'Other Service Activities',\n",
    "                                    'Novads_nz':'novads'\n",
    "                                    })"
   ]
  },
  {
   "cell_type": "code",
   "execution_count": 29,
   "metadata": {},
   "outputs": [],
   "source": [
    "# creating the final table and exporting it to excel.\n",
    "df_uz = pd.merge(df_uz, df_noz_gr, on='novads', how='left')"
   ]
  },
  {
   "cell_type": "code",
   "execution_count": 30,
   "metadata": {
    "scrolled": false
   },
   "outputs": [
    {
     "data": {
      "text/html": [
       "<div>\n",
       "<style scoped>\n",
       "    .dataframe tbody tr th:only-of-type {\n",
       "        vertical-align: middle;\n",
       "    }\n",
       "\n",
       "    .dataframe tbody tr th {\n",
       "        vertical-align: top;\n",
       "    }\n",
       "\n",
       "    .dataframe thead th {\n",
       "        text-align: right;\n",
       "    }\n",
       "</style>\n",
       "<table border=\"1\" class=\"dataframe\">\n",
       "  <thead>\n",
       "    <tr style=\"text-align: right;\">\n",
       "      <th></th>\n",
       "      <th>novads</th>\n",
       "      <th>2009</th>\n",
       "      <th>2010</th>\n",
       "      <th>2011</th>\n",
       "      <th>2012</th>\n",
       "      <th>2013</th>\n",
       "      <th>2014</th>\n",
       "      <th>2015</th>\n",
       "      <th>2016</th>\n",
       "      <th>2017</th>\n",
       "      <th>...</th>\n",
       "      <th>Information and Communication</th>\n",
       "      <th>Financial and Insurance Activities</th>\n",
       "      <th>Real Estate Activities</th>\n",
       "      <th>Professional, Scientific and Technical Activities</th>\n",
       "      <th>Administrative and Support Service Activities</th>\n",
       "      <th>Public Administration and Defence</th>\n",
       "      <th>Education</th>\n",
       "      <th>Human Health and Social Work Activities</th>\n",
       "      <th>Arts, Entertainment and Recreation</th>\n",
       "      <th>Other Service Activities</th>\n",
       "    </tr>\n",
       "  </thead>\n",
       "  <tbody>\n",
       "    <tr>\n",
       "      <th>0</th>\n",
       "      <td>Rīga</td>\n",
       "      <td>4432.0</td>\n",
       "      <td>7205.0</td>\n",
       "      <td>10022.0</td>\n",
       "      <td>9459.0</td>\n",
       "      <td>9250.0</td>\n",
       "      <td>8604.0</td>\n",
       "      <td>7508.0</td>\n",
       "      <td>5963.0</td>\n",
       "      <td>5067.0</td>\n",
       "      <td>...</td>\n",
       "      <td>4571.0</td>\n",
       "      <td>1467.0</td>\n",
       "      <td>8081.0</td>\n",
       "      <td>11485.0</td>\n",
       "      <td>4104.0</td>\n",
       "      <td>4.0</td>\n",
       "      <td>1696.0</td>\n",
       "      <td>2216.0</td>\n",
       "      <td>2389.0</td>\n",
       "      <td>7836.0</td>\n",
       "    </tr>\n",
       "    <tr>\n",
       "      <th>1</th>\n",
       "      <td>Valmiera</td>\n",
       "      <td>72.0</td>\n",
       "      <td>113.0</td>\n",
       "      <td>170.0</td>\n",
       "      <td>133.0</td>\n",
       "      <td>130.0</td>\n",
       "      <td>128.0</td>\n",
       "      <td>116.0</td>\n",
       "      <td>84.0</td>\n",
       "      <td>76.0</td>\n",
       "      <td>...</td>\n",
       "      <td>85.0</td>\n",
       "      <td>22.0</td>\n",
       "      <td>149.0</td>\n",
       "      <td>238.0</td>\n",
       "      <td>59.0</td>\n",
       "      <td>1.0</td>\n",
       "      <td>57.0</td>\n",
       "      <td>108.0</td>\n",
       "      <td>68.0</td>\n",
       "      <td>442.0</td>\n",
       "    </tr>\n",
       "    <tr>\n",
       "      <th>2</th>\n",
       "      <td>Olaines novads</td>\n",
       "      <td>41.0</td>\n",
       "      <td>107.0</td>\n",
       "      <td>146.0</td>\n",
       "      <td>127.0</td>\n",
       "      <td>144.0</td>\n",
       "      <td>123.0</td>\n",
       "      <td>172.0</td>\n",
       "      <td>131.0</td>\n",
       "      <td>89.0</td>\n",
       "      <td>...</td>\n",
       "      <td>41.0</td>\n",
       "      <td>21.0</td>\n",
       "      <td>58.0</td>\n",
       "      <td>131.0</td>\n",
       "      <td>66.0</td>\n",
       "      <td>NaN</td>\n",
       "      <td>38.0</td>\n",
       "      <td>25.0</td>\n",
       "      <td>38.0</td>\n",
       "      <td>129.0</td>\n",
       "    </tr>\n",
       "    <tr>\n",
       "      <th>3</th>\n",
       "      <td>Salaspils novads</td>\n",
       "      <td>79.0</td>\n",
       "      <td>134.0</td>\n",
       "      <td>182.0</td>\n",
       "      <td>196.0</td>\n",
       "      <td>166.0</td>\n",
       "      <td>168.0</td>\n",
       "      <td>141.0</td>\n",
       "      <td>110.0</td>\n",
       "      <td>91.0</td>\n",
       "      <td>...</td>\n",
       "      <td>67.0</td>\n",
       "      <td>7.0</td>\n",
       "      <td>72.0</td>\n",
       "      <td>183.0</td>\n",
       "      <td>86.0</td>\n",
       "      <td>NaN</td>\n",
       "      <td>45.0</td>\n",
       "      <td>111.0</td>\n",
       "      <td>66.0</td>\n",
       "      <td>230.0</td>\n",
       "    </tr>\n",
       "    <tr>\n",
       "      <th>4</th>\n",
       "      <td>Jūrmala</td>\n",
       "      <td>179.0</td>\n",
       "      <td>322.0</td>\n",
       "      <td>423.0</td>\n",
       "      <td>421.0</td>\n",
       "      <td>431.0</td>\n",
       "      <td>358.0</td>\n",
       "      <td>332.0</td>\n",
       "      <td>271.0</td>\n",
       "      <td>259.0</td>\n",
       "      <td>...</td>\n",
       "      <td>170.0</td>\n",
       "      <td>50.0</td>\n",
       "      <td>700.0</td>\n",
       "      <td>522.0</td>\n",
       "      <td>223.0</td>\n",
       "      <td>NaN</td>\n",
       "      <td>112.0</td>\n",
       "      <td>156.0</td>\n",
       "      <td>137.0</td>\n",
       "      <td>436.0</td>\n",
       "    </tr>\n",
       "  </tbody>\n",
       "</table>\n",
       "<p>5 rows × 46 columns</p>\n",
       "</div>"
      ],
      "text/plain": [
       "             novads    2009    2010     2011    2012    2013    2014    2015  \\\n",
       "0              Rīga  4432.0  7205.0  10022.0  9459.0  9250.0  8604.0  7508.0   \n",
       "1          Valmiera    72.0   113.0    170.0   133.0   130.0   128.0   116.0   \n",
       "2    Olaines novads    41.0   107.0    146.0   127.0   144.0   123.0   172.0   \n",
       "3  Salaspils novads    79.0   134.0    182.0   196.0   166.0   168.0   141.0   \n",
       "4           Jūrmala   179.0   322.0    423.0   421.0   431.0   358.0   332.0   \n",
       "\n",
       "     2016    2017            ...             Information and Communication  \\\n",
       "0  5963.0  5067.0            ...                                    4571.0   \n",
       "1    84.0    76.0            ...                                      85.0   \n",
       "2   131.0    89.0            ...                                      41.0   \n",
       "3   110.0    91.0            ...                                      67.0   \n",
       "4   271.0   259.0            ...                                     170.0   \n",
       "\n",
       "   Financial and Insurance Activities  Real Estate Activities  \\\n",
       "0                              1467.0                  8081.0   \n",
       "1                                22.0                   149.0   \n",
       "2                                21.0                    58.0   \n",
       "3                                 7.0                    72.0   \n",
       "4                                50.0                   700.0   \n",
       "\n",
       "  Professional, Scientific and Technical Activities  \\\n",
       "0                                           11485.0   \n",
       "1                                             238.0   \n",
       "2                                             131.0   \n",
       "3                                             183.0   \n",
       "4                                             522.0   \n",
       "\n",
       "   Administrative and Support Service Activities  \\\n",
       "0                                         4104.0   \n",
       "1                                           59.0   \n",
       "2                                           66.0   \n",
       "3                                           86.0   \n",
       "4                                          223.0   \n",
       "\n",
       "   Public Administration and Defence  Education  \\\n",
       "0                                4.0     1696.0   \n",
       "1                                1.0       57.0   \n",
       "2                                NaN       38.0   \n",
       "3                                NaN       45.0   \n",
       "4                                NaN      112.0   \n",
       "\n",
       "   Human Health and Social Work Activities  \\\n",
       "0                                   2216.0   \n",
       "1                                    108.0   \n",
       "2                                     25.0   \n",
       "3                                    111.0   \n",
       "4                                    156.0   \n",
       "\n",
       "   Arts, Entertainment and Recreation  Other Service Activities  \n",
       "0                              2389.0                    7836.0  \n",
       "1                                68.0                     442.0  \n",
       "2                                38.0                     129.0  \n",
       "3                                66.0                     230.0  \n",
       "4                               137.0                     436.0  \n",
       "\n",
       "[5 rows x 46 columns]"
      ]
     },
     "execution_count": 30,
     "metadata": {},
     "output_type": "execute_result"
    }
   ],
   "source": [
    "df_uz.head()"
   ]
  },
  {
   "cell_type": "code",
   "execution_count": 31,
   "metadata": {},
   "outputs": [],
   "source": [
    "df_uz.to_excel('companydata_table.xlsx', sheet_name='reg_data')"
   ]
  },
  {
   "cell_type": "markdown",
   "metadata": {},
   "source": [
    "## RESULTS"
   ]
  },
  {
   "cell_type": "markdown",
   "metadata": {},
   "source": [
    "[Here's the dashboard built on the compiled data!](https://public.tableau.com/profile/sergejs1574#!/vizhome/NewbusinessopeningsinLatviav_2/BusinessopeningsLV)"
   ]
  },
  {
   "cell_type": "code",
   "execution_count": null,
   "metadata": {},
   "outputs": [],
   "source": []
  }
 ],
 "metadata": {
  "kernelspec": {
   "display_name": "Python 3.6",
   "language": "python",
   "name": "python3"
  },
  "language_info": {
   "codemirror_mode": {
    "name": "ipython",
    "version": 3
   },
   "file_extension": ".py",
   "mimetype": "text/x-python",
   "name": "python",
   "nbconvert_exporter": "python",
   "pygments_lexer": "ipython3",
   "version": "3.6.9"
  }
 },
 "nbformat": 4,
 "nbformat_minor": 1
}
