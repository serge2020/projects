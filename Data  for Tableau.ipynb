{
    "nbformat_minor": 1, 
    "cells": [
        {
            "source": "## DATA CLEANING AND WRANGLING FOR TABLEAU DASHBOARD", 
            "cell_type": "markdown", 
            "metadata": {}
        }, 
        {
            "source": "The objective of this project is to compile data from several publicly available data sources from Latvian state instititutions.<br> Despite the great data Tableau processing capabilities it could not join 5 different .xls and.csv tables with geospatial data in .shp file. So the objective of this Python code is to merge the relevant data from these files into a new dataframe and export it for further use in Tableau.<br>Data in the input files  cover such economic and demographic indicators as:\n* dynamics of new company registration, \n* business classification(NACE),  \n* salary data of paid and self-employed workers,\n* population dynamics.", 
            "cell_type": "markdown", 
            "metadata": {}
        }, 
        {
            "source": "import pandas as pd\nimport numpy as np", 
            "cell_type": "code", 
            "metadata": {
                "scrolled": true
            }, 
            "outputs": [], 
            "execution_count": 1
        }, 
        {
            "source": "#Latvia Company Register data, 440 000 records on registration of companies in 1990 - 2019.\nfile1 = 'http://dati.ur.gov.lv/register/register.csv' \nfile2 = 'https://www.dropbox.com/s/knfc29x4tmo065k/Novadu_atvk_kodi.xlsx?dl=1' #regional codes needed for geospatial data\nfile3 = 'https://www.dropbox.com/s/9jqoo6c5yjqy64a/Population_2013-2017.csv?dl=1'#population dynamics 2013 - 2017\nfile4 = 'https://www.dropbox.com/s/ql9dzkmsmi8sxte/iemaksu_alga_ed.xlsx?dl=1'# salary data 2018\nfile5 = 'https://www.dropbox.com/s/7ii9dp7kcbt7al6/business_classificator.xlsx?dl=1'#NACE business classificator data", 
            "cell_type": "code", 
            "metadata": {
                "scrolled": true
            }, 
            "outputs": [], 
            "execution_count": 2
        }, 
        {
            "source": "df1 = pd.read_csv(file1, sep=';', low_memory = False, error_bad_lines=False)", 
            "cell_type": "code", 
            "metadata": {
                "scrolled": true
            }, 
            "outputs": [], 
            "execution_count": 3
        }, 
        {
            "source": "df1.shape", 
            "cell_type": "code", 
            "metadata": {}, 
            "outputs": [
                {
                    "output_type": "execute_result", 
                    "data": {
                        "text/plain": "(411942, 21)"
                    }, 
                    "execution_count": 4, 
                    "metadata": {}
                }
            ], 
            "execution_count": 4
        }, 
        {
            "source": "df1.columns", 
            "cell_type": "code", 
            "metadata": {}, 
            "outputs": [
                {
                    "output_type": "execute_result", 
                    "data": {
                        "text/plain": "Index(['regcode', 'sepa', 'name', 'name_before_quotes', 'name_in_quotes',\n       'name_after_quotes', 'without_quotes', 'regtype', 'regtype_text',\n       'type', 'type_text', 'registered', 'terminated', 'closed', 'address',\n       'index', 'addressid', 'region', 'city', 'atvk', 'reregistration_term'],\n      dtype='object')"
                    }, 
                    "execution_count": 5, 
                    "metadata": {}
                }
            ], 
            "execution_count": 5
        }, 
        {
            "source": "#filtering companies by business type...\ndft2 = df1.loc[df1['type'].isin([\"SIA\", \"ZEM\"])]\n\n#... and year of registration.\npd.options.mode.chained_assignment = None\ndft2['registered'] = pd.to_datetime(dft2['registered'])\n\ndft2 = dft2.loc[dft2['registered']>'2009-01-01 00:00:00']\ndft2 = pd.DataFrame(dft2.drop(['sepa', 'name_before_quotes', 'name_in_quotes',\n       'name_after_quotes', 'without_quotes', 'regtype', 'regtype_text',\n       'type_text', 'closed', 'index', 'addressid', 'region', 'city', 'reregistration_term'], axis=1))\n\n#renaming columns that will be used as table keys later on.\ndft2['address'] = dft2['address'].str.split(',', 1).str[0].str.strip()\ndft2['address'] = dft2['address'].str.replace(r'nov.', 'novads').str.strip()\n\ndft2=dft2.rename(index=str, columns={'address':'novads', 'atvk':'atvk_ur'})\n#assigning year date to a new column.\ndft2['year'] = pd.DatetimeIndex(dft2['registered']).year", 
            "cell_type": "code", 
            "metadata": {
                "scrolled": true
            }, 
            "outputs": [], 
            "execution_count": 6
        }, 
        {
            "source": "#creating new dataframe to store registration data by region and year\ncol = dft2['year'].unique().tolist()\nrow = dft2['novads'].unique().tolist()\n\nD = np.zeros(shape=(len(row),len(col)))\ndf_uz = pd.DataFrame(D, columns=col, index=row)\ndf_uz = df_uz.reindex(sorted(df_uz.columns), axis=1)\ndf_uz.index.name = 'novads'\n\n#extracting registration data from original table and calculating the new values for each region/year.\nx = range(len(dft2.index))\n\nfor i in x:\n    r1 = dft2.iloc[i, 5]\n    c1 = dft2.iloc[i, 7]\n    df_uz.loc[r1, c1] += 1 ", 
            "cell_type": "code", 
            "metadata": {
                "scrolled": true
            }, 
            "outputs": [], 
            "execution_count": 7
        }, 
        {
            "source": "#calculating summary column for 2009-2018.\ndf_uz.columns = df_uz.columns.astype(str)    \ndf_uz['2009_20018_compsum'] =  df_uz[['2009', '2010', '2011', '2012', '2013',\n                                     '2014', '2015', '2016', '2017', '2018']].sum(axis=1)\ndf_uz = df_uz.reset_index()", 
            "cell_type": "code", 
            "metadata": {
                "scrolled": true
            }, 
            "outputs": [], 
            "execution_count": 8
        }, 
        {
            "source": "df_uz.shape", 
            "cell_type": "code", 
            "metadata": {}, 
            "outputs": [
                {
                    "output_type": "execute_result", 
                    "data": {
                        "text/plain": "(119, 13)"
                    }, 
                    "execution_count": 9, 
                    "metadata": {}
                }
            ], 
            "execution_count": 9
        }, 
        {
            "source": "#opening tand joining the table with regional geo-codes.\ndf_atvk = pd.read_excel(file2, sheet_name = 'novadi')", 
            "cell_type": "code", 
            "metadata": {
                "scrolled": true
            }, 
            "outputs": [], 
            "execution_count": 10
        }, 
        {
            "source": "df_atvk=df_atvk.rename(index=str, columns={'ATVK ':'atvk','Administrat\u012bv\u0101s teritorijas':'novads'})\ndf_atvk['atvk'] = df_atvk['atvk'].astype(str)\ndf_atvk.iloc[0,0]= '010000'\ndf_atvk.iloc[1,0] = '050000'\ndf_atvk.iloc[2,0] = '090000'\ndf_atvk['atvk'] = '0' + df_atvk['atvk'].astype(str)", 
            "cell_type": "code", 
            "metadata": {
                "scrolled": true
            }, 
            "outputs": [], 
            "execution_count": 11
        }, 
        {
            "source": "df_atvk.head()", 
            "cell_type": "code", 
            "metadata": {}, 
            "outputs": [
                {
                    "output_type": "execute_result", 
                    "data": {
                        "text/html": "<div>\n<style scoped>\n    .dataframe tbody tr th:only-of-type {\n        vertical-align: middle;\n    }\n\n    .dataframe tbody tr th {\n        vertical-align: top;\n    }\n\n    .dataframe thead th {\n        text-align: right;\n    }\n</style>\n<table border=\"1\" class=\"dataframe\">\n  <thead>\n    <tr style=\"text-align: right;\">\n      <th></th>\n      <th>atvk</th>\n      <th>novads</th>\n    </tr>\n  </thead>\n  <tbody>\n    <tr>\n      <th>0</th>\n      <td>0010000</td>\n      <td>R\u012bga</td>\n    </tr>\n    <tr>\n      <th>1</th>\n      <td>0050000</td>\n      <td>Daugavpils</td>\n    </tr>\n    <tr>\n      <th>2</th>\n      <td>0090000</td>\n      <td>Jelgava</td>\n    </tr>\n    <tr>\n      <th>3</th>\n      <td>0110000</td>\n      <td>J\u0113kabpils</td>\n    </tr>\n    <tr>\n      <th>4</th>\n      <td>0130000</td>\n      <td>J\u016brmala</td>\n    </tr>\n  </tbody>\n</table>\n</div>", 
                        "text/plain": "      atvk      novads\n0  0010000        R\u012bga\n1  0050000  Daugavpils\n2  0090000     Jelgava\n3  0110000   J\u0113kabpils\n4  0130000     J\u016brmala"
                    }, 
                    "execution_count": 12, 
                    "metadata": {}
                }
            ], 
            "execution_count": 12
        }, 
        {
            "source": "df_uz = pd.merge(df_uz, df_atvk, on='novads', how='left')", 
            "cell_type": "code", 
            "metadata": {
                "scrolled": true
            }, 
            "outputs": [], 
            "execution_count": 13
        }, 
        {
            "source": "df_uz.head()", 
            "cell_type": "code", 
            "metadata": {}, 
            "outputs": [
                {
                    "output_type": "execute_result", 
                    "data": {
                        "text/html": "<div>\n<style scoped>\n    .dataframe tbody tr th:only-of-type {\n        vertical-align: middle;\n    }\n\n    .dataframe tbody tr th {\n        vertical-align: top;\n    }\n\n    .dataframe thead th {\n        text-align: right;\n    }\n</style>\n<table border=\"1\" class=\"dataframe\">\n  <thead>\n    <tr style=\"text-align: right;\">\n      <th></th>\n      <th>novads</th>\n      <th>2009</th>\n      <th>2010</th>\n      <th>2011</th>\n      <th>2012</th>\n      <th>2013</th>\n      <th>2014</th>\n      <th>2015</th>\n      <th>2016</th>\n      <th>2017</th>\n      <th>2018</th>\n      <th>2019</th>\n      <th>2009_20018_compsum</th>\n      <th>atvk</th>\n    </tr>\n  </thead>\n  <tbody>\n    <tr>\n      <th>0</th>\n      <td>R\u012bga</td>\n      <td>4432.0</td>\n      <td>7205.0</td>\n      <td>10022.0</td>\n      <td>9459.0</td>\n      <td>9250.0</td>\n      <td>8604.0</td>\n      <td>7508.0</td>\n      <td>5963.0</td>\n      <td>5067.0</td>\n      <td>5265.0</td>\n      <td>2037.0</td>\n      <td>72775.0</td>\n      <td>0010000</td>\n    </tr>\n    <tr>\n      <th>1</th>\n      <td>Valmiera</td>\n      <td>72.0</td>\n      <td>113.0</td>\n      <td>170.0</td>\n      <td>133.0</td>\n      <td>130.0</td>\n      <td>128.0</td>\n      <td>116.0</td>\n      <td>84.0</td>\n      <td>76.0</td>\n      <td>89.0</td>\n      <td>28.0</td>\n      <td>1111.0</td>\n      <td>0250000</td>\n    </tr>\n    <tr>\n      <th>2</th>\n      <td>Olaines novads</td>\n      <td>41.0</td>\n      <td>107.0</td>\n      <td>146.0</td>\n      <td>127.0</td>\n      <td>144.0</td>\n      <td>123.0</td>\n      <td>172.0</td>\n      <td>131.0</td>\n      <td>89.0</td>\n      <td>104.0</td>\n      <td>28.0</td>\n      <td>1184.0</td>\n      <td>0801000</td>\n    </tr>\n    <tr>\n      <th>3</th>\n      <td>Salaspils novads</td>\n      <td>79.0</td>\n      <td>134.0</td>\n      <td>182.0</td>\n      <td>196.0</td>\n      <td>166.0</td>\n      <td>168.0</td>\n      <td>141.0</td>\n      <td>110.0</td>\n      <td>91.0</td>\n      <td>132.0</td>\n      <td>51.0</td>\n      <td>1399.0</td>\n      <td>0801200</td>\n    </tr>\n    <tr>\n      <th>4</th>\n      <td>J\u016brmala</td>\n      <td>179.0</td>\n      <td>322.0</td>\n      <td>423.0</td>\n      <td>421.0</td>\n      <td>431.0</td>\n      <td>358.0</td>\n      <td>332.0</td>\n      <td>271.0</td>\n      <td>259.0</td>\n      <td>261.0</td>\n      <td>118.0</td>\n      <td>3257.0</td>\n      <td>0130000</td>\n    </tr>\n  </tbody>\n</table>\n</div>", 
                        "text/plain": "             novads    2009    2010     2011    2012    2013    2014    2015  \\\n0              R\u012bga  4432.0  7205.0  10022.0  9459.0  9250.0  8604.0  7508.0   \n1          Valmiera    72.0   113.0    170.0   133.0   130.0   128.0   116.0   \n2    Olaines novads    41.0   107.0    146.0   127.0   144.0   123.0   172.0   \n3  Salaspils novads    79.0   134.0    182.0   196.0   166.0   168.0   141.0   \n4           J\u016brmala   179.0   322.0    423.0   421.0   431.0   358.0   332.0   \n\n     2016    2017    2018    2019  2009_20018_compsum     atvk  \n0  5963.0  5067.0  5265.0  2037.0             72775.0  0010000  \n1    84.0    76.0    89.0    28.0              1111.0  0250000  \n2   131.0    89.0   104.0    28.0              1184.0  0801000  \n3   110.0    91.0   132.0    51.0              1399.0  0801200  \n4   271.0   259.0   261.0   118.0              3257.0  0130000  "
                    }, 
                    "execution_count": 14, 
                    "metadata": {}
                }
            ], 
            "execution_count": 14
        }, 
        {
            "source": "#opening tand joining the table with population dynamics.\ndf_iedz = pd.read_csv(file3, skiprows=1, sep=',', error_bad_lines=False)", 
            "cell_type": "code", 
            "metadata": {
                "scrolled": true
            }, 
            "outputs": [], 
            "execution_count": 15
        }, 
        {
            "source": "df_iedz=df_iedz.rename(index=str, columns={'2013 Iedz\u012bvot\u0101ju skaits gada s\u0101kum\u0101':'2013_pop',\n                                           '2014 Iedz\u012bvot\u0101ju skaits gada s\u0101kum\u0101':'2014_pop',\n                                           '2015 Iedz\u012bvot\u0101ju skaits gada s\u0101kum\u0101':'2015_pop',\n                                           '2016 Iedz\u012bvot\u0101ju skaits gada s\u0101kum\u0101':'2016_pop',\n                                           '2017 Iedz\u012bvot\u0101ju skaits gada s\u0101kum\u0101':'2017_pop',\n                                           'Teritori\u0101l\u0101 vien\u012bba': 'novads'})\n\n#calculating 2013-2017 average\ndf_iedz['pop_avg'] = df_iedz.loc[:,['2013_pop', '2014_pop', '2015_pop', '2016_pop', '2017_pop']].mean(axis=1)\ndf_uz = pd.merge(df_uz, df_iedz, on='novads', how='left')\n# and indicator: 1000 new companies per 1000 inhabitants that will be used as variable in the dashboard's map.\ndf_uz['comp_1000pop'] = df_uz['2009_20018_compsum']/df_uz['pop_avg']*1000    ", 
            "cell_type": "code", 
            "metadata": {
                "scrolled": true
            }, 
            "outputs": [], 
            "execution_count": 16
        }, 
        {
            "source": "#opening tand joining the table with salary data.\ndf_wg=pd.read_excel(file4, sheet_name='Dati')", 
            "cell_type": "code", 
            "metadata": {}, 
            "outputs": [], 
            "execution_count": 17
        }, 
        {
            "source": "df_wg = pd.DataFrame(df_wg.drop(['PP gads','ATVK kods'],axis=1))\ndf_wg=df_wg.rename(index=str, columns={'Pils\u0113ta, novads':'novads','Oblig. kop\u0101, skaits':'all_count',\n                                       'Oblig. kop\u0101, alga':'all_eur',\n                                       'Darba \u0146\u0113m. kop\u0101, skaits':'workers_count',\n                                       'Darba \u0146\u0113m. kop\u0101, alga':'workers_eur',\n                                       'Pa\u0161nodarb. kop\u0101, skaits':'selfemp_count',\n                                       'Pa\u0161nodarb. kop\u0101, alga':'selfemp_eur'})", 
            "cell_type": "code", 
            "metadata": {}, 
            "outputs": [], 
            "execution_count": 18
        }, 
        {
            "source": "df_uz = pd.merge(df_uz, df_wg, on='novads', how='left')", 
            "cell_type": "code", 
            "metadata": {}, 
            "outputs": [], 
            "execution_count": 19
        }, 
        {
            "source": "#The final table to join contains business classification (NACE) data split by regions.\ndf_noz=pd.read_excel(file5, sheet_name='nozares')", 
            "cell_type": "code", 
            "metadata": {
                "scrolled": true
            }, 
            "outputs": [], 
            "execution_count": 20
        }, 
        {
            "source": "#filling NaNs in regions ('novadi) column with missing names of the respective regions.\nx = range(len(df_noz['Novads_nz']))\na = df_noz.iloc[0, 0]\nfor i in x:       \n    if pd.isnull(df_noz.iloc[i, 0]):\n        df_noz.iloc[i, 0] = a\n    else:\n        a = df_noz.iloc[i, 0]\n\ndf_noz = pd.DataFrame(df_noz.drop(['Nod. sk.'],axis=1))", 
            "cell_type": "code", 
            "metadata": {}, 
            "outputs": [], 
            "execution_count": 21
        }, 
        {
            "source": "df_noz.columns", 
            "cell_type": "code", 
            "metadata": {}, 
            "outputs": [
                {
                    "output_type": "execute_result", 
                    "data": {
                        "text/plain": "Index(['Novads_nz', 'A Lauksaimniec\u012bba, me\u017esaimniec\u012bba un zivsaimniec\u012bba',\n       'B Ieguves r\u016bpniec\u012bba un karjeru izstr\u0101de', 'C Apstr\u0101des r\u016bpniec\u012bba',\n       'D Elektroener\u0123ija, g\u0101zes apg\u0101de, siltumapg\u0101de un gaisa kondicion\u0113\u0161',\n       'E \u016adens apg\u0101de; notek\u016bde\u0146u, atkritumu apsaimnieko\u0161ana un san\u0101cija',\n       'F B\u016bvniec\u012bba',\n       'G Vairumtirdzniec\u012bba un mazumtirdzniec\u012bba; automobi\u013cu un motociklu',\n       'H Transports un uzglab\u0101\u0161ana',\n       'I Izmitin\u0101\u0161ana un \u0113din\u0101\u0161anas pakalpojumi',\n       'J Inform\u0101cijas un komunik\u0101cijas pakalpojumi',\n       'K Finan\u0161u un apdro\u0161in\u0101\u0161anas darb\u012bbas',\n       'L Oper\u0101cijas ar nekustamo \u012bpa\u0161umu',\n       'M Profesion\u0101lie, zin\u0101tniskie un tehniskie pakalpojumi',\n       'N Administrat\u012bvo un apkalpojo\u0161o dienestu darb\u012bba',\n       'O Valsts p\u0101rvalde un aizsardz\u012bba; oblig\u0101t\u0101 soci\u0101l\u0101 apdro\u0161in\u0101\u0161ana',\n       'P Izgl\u012bt\u012bba', 'Q Vesel\u012bba un soci\u0101l\u0101 apr\u016bpe',\n       'R M\u0101ksla, izklaide un atp\u016bta', 'S Citi pakalpojumi',\n       'T M\u0101jsaimniec\u012bbu k\u0101 darba dev\u0113ju darb\u012bba; pa\u0161pat\u0113ri\u0146a pre\u010du ra\u017eo\u0161a',\n       'U \u0100rpusteritori\u0101lo organiz\u0101ciju un instit\u016bciju darb\u012bba',\n       'NSP Nav noteikts'],\n      dtype='object')"
                    }, 
                    "execution_count": 22, 
                    "metadata": {}
                }
            ], 
            "execution_count": 22
        }, 
        {
            "source": "L = ['A Lauksaimniec\u012bba, me\u017esaimniec\u012bba un zivsaimniec\u012bba',\n       'B Ieguves r\u016bpniec\u012bba un karjeru izstr\u0101de', 'C Apstr\u0101des r\u016bpniec\u012bba',\n       'D Elektroener\u0123ija, g\u0101zes apg\u0101de, siltumapg\u0101de un gaisa kondicion\u0113\u0161',\n       'E \u016adens apg\u0101de; notek\u016bde\u0146u, atkritumu apsaimnieko\u0161ana un san\u0101cija',\n       'F B\u016bvniec\u012bba',\n       'G Vairumtirdzniec\u012bba un mazumtirdzniec\u012bba; automobi\u013cu un motociklu',\n       'H Transports un uzglab\u0101\u0161ana',\n       'I Izmitin\u0101\u0161ana un \u0113din\u0101\u0161anas pakalpojumi',\n       'J Inform\u0101cijas un komunik\u0101cijas pakalpojumi',\n       'K Finan\u0161u un apdro\u0161in\u0101\u0161anas darb\u012bbas',\n       'L Oper\u0101cijas ar nekustamo \u012bpa\u0161umu',\n       'M Profesion\u0101lie, zin\u0101tniskie un tehniskie pakalpojumi',\n       'N Administrat\u012bvo un apkalpojo\u0161o dienestu darb\u012bba',\n       'O Valsts p\u0101rvalde un aizsardz\u012bba; oblig\u0101t\u0101 soci\u0101l\u0101 apdro\u0161in\u0101\u0161ana',\n       'P Izgl\u012bt\u012bba', 'Q Vesel\u012bba un soci\u0101l\u0101 apr\u016bpe',\n       'R M\u0101ksla, izklaide un atp\u016bta', 'S Citi pakalpojumi',\n       'T M\u0101jsaimniec\u012bbu k\u0101 darba dev\u0113ju darb\u012bba; pa\u0161pat\u0113ri\u0146a pre\u010du ra\u017eo\u0161a',\n       'U \u0100rpusteritori\u0101lo organiz\u0101ciju un instit\u016bciju darb\u012bba',\n       'NSP Nav noteikts']", 
            "cell_type": "code", 
            "metadata": {}, 
            "outputs": [], 
            "execution_count": 23
        }, 
        {
            "source": "#grouping by regions\ndf_noz[L] = df_noz[L].apply(pd.to_numeric, errors='coerce')\ndf_noz_gr = df_noz.groupby('Novads_nz').sum()\ndf_noz_gr = df_noz_gr.reset_index()\n", 
            "cell_type": "code", 
            "metadata": {}, 
            "outputs": [], 
            "execution_count": 25
        }, 
        {
            "source": "df_noz_gr.isnull().sum()", 
            "cell_type": "code", 
            "metadata": {}, 
            "outputs": [
                {
                    "output_type": "execute_result", 
                    "data": {
                        "text/plain": "Novads_nz                                                               0\nA Lauksaimniec\u012bba, me\u017esaimniec\u012bba un zivsaimniec\u012bba                     0\nB Ieguves r\u016bpniec\u012bba un karjeru izstr\u0101de                               36\nC Apstr\u0101des r\u016bpniec\u012bba                                                  0\nD Elektroener\u0123ija, g\u0101zes apg\u0101de, siltumapg\u0101de un gaisa kondicion\u0113\u0161     18\nE \u016adens apg\u0101de; notek\u016bde\u0146u, atkritumu apsaimnieko\u0161ana un san\u0101cija      42\nF B\u016bvniec\u012bba                                                            0\nG Vairumtirdzniec\u012bba un mazumtirdzniec\u012bba; automobi\u013cu un motociklu      0\nH Transports un uzglab\u0101\u0161ana                                             1\nI Izmitin\u0101\u0161ana un \u0113din\u0101\u0161anas pakalpojumi                                4\nJ Inform\u0101cijas un komunik\u0101cijas pakalpojumi                             7\nK Finan\u0161u un apdro\u0161in\u0101\u0161anas darb\u012bbas                                   19\nL Oper\u0101cijas ar nekustamo \u012bpa\u0161umu                                       2\nM Profesion\u0101lie, zin\u0101tniskie un tehniskie pakalpojumi                   0\nN Administrat\u012bvo un apkalpojo\u0161o dienestu darb\u012bba                        3\nO Valsts p\u0101rvalde un aizsardz\u012bba; oblig\u0101t\u0101 soci\u0101l\u0101 apdro\u0161in\u0101\u0161ana       98\nP Izgl\u012bt\u012bba                                                             6\nQ Vesel\u012bba un soci\u0101l\u0101 apr\u016bpe                                            0\nR M\u0101ksla, izklaide un atp\u016bta                                            2\nS Citi pakalpojumi                                                      0\nT M\u0101jsaimniec\u012bbu k\u0101 darba dev\u0113ju darb\u012bba; pa\u0161pat\u0113ri\u0146a pre\u010du ra\u017eo\u0161a    119\nU \u0100rpusteritori\u0101lo organiz\u0101ciju un instit\u016bciju darb\u012bba                119\nNSP Nav noteikts                                                       58\ndtype: int64"
                    }, 
                    "execution_count": 26, 
                    "metadata": {}
                }
            ], 
            "execution_count": 26
        }, 
        {
            "source": "# removing columns with high proportion of NaNs except state institutions since they understandably(?)\n# concentrate only in few regions.\ndf_noz_gr = pd.DataFrame(df_noz_gr.drop(['T M\u0101jsaimniec\u012bbu k\u0101 darba dev\u0113ju darb\u012bba; pa\u0161pat\u0113ri\u0146a pre\u010du ra\u017eo\u0161a',\n                                         'U \u0100rpusteritori\u0101lo organiz\u0101ciju un instit\u016bciju darb\u012bba',\n                                         'NSP Nav noteikts'],axis=1))", 
            "cell_type": "code", 
            "metadata": {}, 
            "outputs": [], 
            "execution_count": 27
        }, 
        {
            "source": "#Renaming columns to English.\ndf_noz_gr=df_noz_gr.rename(index=str,\n                           columns={'A Lauksaimniec\u012bba, me\u017esaimniec\u012bba un zivsaimniec\u012bba':'Agriculture, Forestry and Fishing',\n                                    'B Ieguves r\u016bpniec\u012bba un karjeru izstr\u0101de':'Mining and Quarrying',\n                                    'C Apstr\u0101des r\u016bpniec\u012bba':'Manufacturing',\n                                    'D Elektroener\u0123ija, g\u0101zes apg\u0101de, siltumapg\u0101de un gaisa kondicion\u0113\u0161':'Electricity, Gas, Steam and Air Conditioning Supply',\n                                    'E \u016adens apg\u0101de; notek\u016bde\u0146u, atkritumu apsaimnieko\u0161ana un san\u0101cija':'Water Supply; Sewerage, Waste Management',\n                                    'F B\u016bvniec\u012bba':'Construction',\n                                    'G Vairumtirdzniec\u012bba un mazumtirdzniec\u012bba; automobi\u013cu un motociklu':'Wholesale and Retail Trade',\n                                    'H Transports un uzglab\u0101\u0161ana':'Transportation and Storage',\n                                    'I Izmitin\u0101\u0161ana un \u0113din\u0101\u0161anas pakalpojumi':'Accommodation and Food Service Activities',\n                                    'J Inform\u0101cijas un komunik\u0101cijas pakalpojumi':'Information and Communication',\n                                    'K Finan\u0161u un apdro\u0161in\u0101\u0161anas darb\u012bbas':'Financial and Insurance Activities',\n                                    'L Oper\u0101cijas ar nekustamo \u012bpa\u0161umu':'Real Estate Activities',\n                                    'M Profesion\u0101lie, zin\u0101tniskie un tehniskie pakalpojumi':'Professional, Scientific and Technical Activities',\n                                    'N Administrat\u012bvo un apkalpojo\u0161o dienestu darb\u012bba':'Administrative and Support Service Activities',\n                                    'O Valsts p\u0101rvalde un aizsardz\u012bba; oblig\u0101t\u0101 soci\u0101l\u0101 apdro\u0161in\u0101\u0161ana':'Public Administration and Defence',\n                                    'P Izgl\u012bt\u012bba':'Education',\n                                    'Q Vesel\u012bba un soci\u0101l\u0101 apr\u016bpe':'Human Health and Social Work Activities',\n                                    'R M\u0101ksla, izklaide un atp\u016bta':'Arts, Entertainment and Recreation',\n                                    'S Citi pakalpojumi':'Other Service Activities',\n                                    'Novads_nz':'novads'\n                                    })", 
            "cell_type": "code", 
            "metadata": {}, 
            "outputs": [], 
            "execution_count": 28
        }, 
        {
            "source": "# creating the final table and exporting it to excel.\ndf_uz = pd.merge(df_uz, df_noz_gr, on='novads', how='left')", 
            "cell_type": "code", 
            "metadata": {}, 
            "outputs": [], 
            "execution_count": 29
        }, 
        {
            "source": "df_uz.head()", 
            "cell_type": "code", 
            "metadata": {
                "scrolled": false
            }, 
            "outputs": [
                {
                    "output_type": "execute_result", 
                    "data": {
                        "text/html": "<div>\n<style scoped>\n    .dataframe tbody tr th:only-of-type {\n        vertical-align: middle;\n    }\n\n    .dataframe tbody tr th {\n        vertical-align: top;\n    }\n\n    .dataframe thead th {\n        text-align: right;\n    }\n</style>\n<table border=\"1\" class=\"dataframe\">\n  <thead>\n    <tr style=\"text-align: right;\">\n      <th></th>\n      <th>novads</th>\n      <th>2009</th>\n      <th>2010</th>\n      <th>2011</th>\n      <th>2012</th>\n      <th>2013</th>\n      <th>2014</th>\n      <th>2015</th>\n      <th>2016</th>\n      <th>2017</th>\n      <th>...</th>\n      <th>Information and Communication</th>\n      <th>Financial and Insurance Activities</th>\n      <th>Real Estate Activities</th>\n      <th>Professional, Scientific and Technical Activities</th>\n      <th>Administrative and Support Service Activities</th>\n      <th>Public Administration and Defence</th>\n      <th>Education</th>\n      <th>Human Health and Social Work Activities</th>\n      <th>Arts, Entertainment and Recreation</th>\n      <th>Other Service Activities</th>\n    </tr>\n  </thead>\n  <tbody>\n    <tr>\n      <th>0</th>\n      <td>R\u012bga</td>\n      <td>4432.0</td>\n      <td>7205.0</td>\n      <td>10022.0</td>\n      <td>9459.0</td>\n      <td>9250.0</td>\n      <td>8604.0</td>\n      <td>7508.0</td>\n      <td>5963.0</td>\n      <td>5067.0</td>\n      <td>...</td>\n      <td>4571.0</td>\n      <td>1467.0</td>\n      <td>8081.0</td>\n      <td>11485.0</td>\n      <td>4104.0</td>\n      <td>4.0</td>\n      <td>1696.0</td>\n      <td>2216.0</td>\n      <td>2389.0</td>\n      <td>7836.0</td>\n    </tr>\n    <tr>\n      <th>1</th>\n      <td>Valmiera</td>\n      <td>72.0</td>\n      <td>113.0</td>\n      <td>170.0</td>\n      <td>133.0</td>\n      <td>130.0</td>\n      <td>128.0</td>\n      <td>116.0</td>\n      <td>84.0</td>\n      <td>76.0</td>\n      <td>...</td>\n      <td>85.0</td>\n      <td>22.0</td>\n      <td>149.0</td>\n      <td>238.0</td>\n      <td>59.0</td>\n      <td>1.0</td>\n      <td>57.0</td>\n      <td>108.0</td>\n      <td>68.0</td>\n      <td>442.0</td>\n    </tr>\n    <tr>\n      <th>2</th>\n      <td>Olaines novads</td>\n      <td>41.0</td>\n      <td>107.0</td>\n      <td>146.0</td>\n      <td>127.0</td>\n      <td>144.0</td>\n      <td>123.0</td>\n      <td>172.0</td>\n      <td>131.0</td>\n      <td>89.0</td>\n      <td>...</td>\n      <td>41.0</td>\n      <td>21.0</td>\n      <td>58.0</td>\n      <td>131.0</td>\n      <td>66.0</td>\n      <td>NaN</td>\n      <td>38.0</td>\n      <td>25.0</td>\n      <td>38.0</td>\n      <td>129.0</td>\n    </tr>\n    <tr>\n      <th>3</th>\n      <td>Salaspils novads</td>\n      <td>79.0</td>\n      <td>134.0</td>\n      <td>182.0</td>\n      <td>196.0</td>\n      <td>166.0</td>\n      <td>168.0</td>\n      <td>141.0</td>\n      <td>110.0</td>\n      <td>91.0</td>\n      <td>...</td>\n      <td>67.0</td>\n      <td>7.0</td>\n      <td>72.0</td>\n      <td>183.0</td>\n      <td>86.0</td>\n      <td>NaN</td>\n      <td>45.0</td>\n      <td>111.0</td>\n      <td>66.0</td>\n      <td>230.0</td>\n    </tr>\n    <tr>\n      <th>4</th>\n      <td>J\u016brmala</td>\n      <td>179.0</td>\n      <td>322.0</td>\n      <td>423.0</td>\n      <td>421.0</td>\n      <td>431.0</td>\n      <td>358.0</td>\n      <td>332.0</td>\n      <td>271.0</td>\n      <td>259.0</td>\n      <td>...</td>\n      <td>170.0</td>\n      <td>50.0</td>\n      <td>700.0</td>\n      <td>522.0</td>\n      <td>223.0</td>\n      <td>NaN</td>\n      <td>112.0</td>\n      <td>156.0</td>\n      <td>137.0</td>\n      <td>436.0</td>\n    </tr>\n  </tbody>\n</table>\n<p>5 rows \u00d7 46 columns</p>\n</div>", 
                        "text/plain": "             novads    2009    2010     2011    2012    2013    2014    2015  \\\n0              R\u012bga  4432.0  7205.0  10022.0  9459.0  9250.0  8604.0  7508.0   \n1          Valmiera    72.0   113.0    170.0   133.0   130.0   128.0   116.0   \n2    Olaines novads    41.0   107.0    146.0   127.0   144.0   123.0   172.0   \n3  Salaspils novads    79.0   134.0    182.0   196.0   166.0   168.0   141.0   \n4           J\u016brmala   179.0   322.0    423.0   421.0   431.0   358.0   332.0   \n\n     2016    2017            ...             Information and Communication  \\\n0  5963.0  5067.0            ...                                    4571.0   \n1    84.0    76.0            ...                                      85.0   \n2   131.0    89.0            ...                                      41.0   \n3   110.0    91.0            ...                                      67.0   \n4   271.0   259.0            ...                                     170.0   \n\n   Financial and Insurance Activities  Real Estate Activities  \\\n0                              1467.0                  8081.0   \n1                                22.0                   149.0   \n2                                21.0                    58.0   \n3                                 7.0                    72.0   \n4                                50.0                   700.0   \n\n  Professional, Scientific and Technical Activities  \\\n0                                           11485.0   \n1                                             238.0   \n2                                             131.0   \n3                                             183.0   \n4                                             522.0   \n\n   Administrative and Support Service Activities  \\\n0                                         4104.0   \n1                                           59.0   \n2                                           66.0   \n3                                           86.0   \n4                                          223.0   \n\n   Public Administration and Defence  Education  \\\n0                                4.0     1696.0   \n1                                1.0       57.0   \n2                                NaN       38.0   \n3                                NaN       45.0   \n4                                NaN      112.0   \n\n   Human Health and Social Work Activities  \\\n0                                   2216.0   \n1                                    108.0   \n2                                     25.0   \n3                                    111.0   \n4                                    156.0   \n\n   Arts, Entertainment and Recreation  Other Service Activities  \n0                              2389.0                    7836.0  \n1                                68.0                     442.0  \n2                                38.0                     129.0  \n3                                66.0                     230.0  \n4                               137.0                     436.0  \n\n[5 rows x 46 columns]"
                    }, 
                    "execution_count": 30, 
                    "metadata": {}
                }
            ], 
            "execution_count": 30
        }, 
        {
            "source": "df_uz.to_excel('companydata_table.xlsx', sheet_name='reg_data')", 
            "cell_type": "code", 
            "metadata": {}, 
            "outputs": [], 
            "execution_count": 31
        }, 
        {
            "source": "## RESULTS", 
            "cell_type": "markdown", 
            "metadata": {}
        }, 
        {
            "source": "[Here's the dashboard built on the compiled data!](https://public.tableau.com/shared/ZFZZY4BCF?:display_count=yes&:origin=viz_share_link)", 
            "cell_type": "markdown", 
            "metadata": {}
        }
    ], 
    "metadata": {
        "kernelspec": {
            "display_name": "Python 3.5", 
            "name": "python3", 
            "language": "python"
        }, 
        "language_info": {
            "mimetype": "text/x-python", 
            "nbconvert_exporter": "python", 
            "version": "3.5.5", 
            "name": "python", 
            "file_extension": ".py", 
            "pygments_lexer": "ipython3", 
            "codemirror_mode": {
                "version": 3, 
                "name": "ipython"
            }
        }
    }, 
    "nbformat": 4
}